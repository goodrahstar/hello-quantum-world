{
  "nbformat": 4,
  "nbformat_minor": 0,
  "metadata": {
    "colab": {
      "name": "Hello Quantum World.ipynb",
      "version": "0.3.2",
      "views": {},
      "default_view": {},
      "provenance": [],
      "collapsed_sections": []
    },
    "kernelspec": {
      "name": "python3",
      "display_name": "Python 3"
    }
  },
  "cells": [
    {
      "metadata": {
        "id": "DJxj6eukJi5K",
        "colab_type": "text"
      },
      "cell_type": "markdown",
      "source": [
        "# Hello Quantum World !!!\n",
        "This notebook covers the basic implementation of superposition and entanglement on real quantum chipset. "
      ]
    },
    {
      "metadata": {
        "id": "0siF0EYmIII3",
        "colab_type": "code",
        "colab": {
          "autoexec": {
            "startup": false,
            "wait_interval": 0
          },
          "base_uri": "https://localhost:8080/",
          "height": 938
        },
        "outputId": "8cc303ed-e755-4f1e-f4ad-fc3734af1c4f",
        "executionInfo": {
          "status": "ok",
          "timestamp": 1531062979152,
          "user_tz": -330,
          "elapsed": 12059,
          "user": {
            "displayName": "RAHUL KUMAR",
            "photoUrl": "//lh5.googleusercontent.com/-Tsfm_ry7qgQ/AAAAAAAAAAI/AAAAAAAAIZs/NIipKd39rF4/s50-c-k-no/photo.jpg",
            "userId": "113791344848346830729"
          }
        }
      },
      "cell_type": "code",
      "source": [
        "!pip install qiskit"
      ],
      "execution_count": 0,
      "outputs": [
        {
          "output_type": "stream",
          "text": [
            "Collecting qiskit\n",
            "\u001b[?25l  Downloading https://files.pythonhosted.org/packages/b1/e4/758e391671d236a58b842dd427015057f3fa21d98633951c13c4913ab949/qiskit-0.5.6-cp36-cp36m-manylinux1_x86_64.whl (1.8MB)\n",
            "\u001b[K    100% |████████████████████████████████| 1.8MB 6.3MB/s \n",
            "\u001b[?25hCollecting pillow>=4.2.1 (from qiskit)\n",
            "\u001b[?25l  Downloading https://files.pythonhosted.org/packages/d1/24/f53ff6b61b3d728b90934bddb4f03f8ab584a7f49299bf3bde56e2952612/Pillow-5.2.0-cp36-cp36m-manylinux1_x86_64.whl (2.0MB)\n",
            "\u001b[K    100% |████████████████████████████████| 2.0MB 12.4MB/s \n",
            "\u001b[?25hCollecting ply>=3.10 (from qiskit)\n",
            "\u001b[?25l  Downloading https://files.pythonhosted.org/packages/a3/58/35da89ee790598a0700ea49b2a66594140f44dec458c07e8e3d4979137fc/ply-3.11-py2.py3-none-any.whl (49kB)\n",
            "\u001b[K    100% |████████████████████████████████| 51kB 17.0MB/s \n",
            "\u001b[?25hRequirement already satisfied: sympy>=1.0 in /usr/local/lib/python3.6/dist-packages (from qiskit) (1.1.1)\n",
            "Collecting IBMQuantumExperience>=1.9.6 (from qiskit)\n",
            "  Downloading https://files.pythonhosted.org/packages/28/af/4c124072bff16ab0c4aa4a5c932b547238a8de4b62b4bd7d4f3e620b665a/IBMQuantumExperience-1.9.8-py3-none-any.whl\n",
            "Requirement already satisfied: scipy>=0.19 in /usr/local/lib/python3.6/dist-packages (from qiskit) (0.19.1)\n",
            "Requirement already satisfied: numpy>=1.13 in /usr/local/lib/python3.6/dist-packages (from qiskit) (1.14.5)\n",
            "Requirement already satisfied: networkx>=2.0 in /usr/local/lib/python3.6/dist-packages (from qiskit) (2.1)\n",
            "Requirement already satisfied: matplotlib>=2.1 in /usr/local/lib/python3.6/dist-packages (from qiskit) (2.1.2)\n",
            "Requirement already satisfied: mpmath>=0.19 in /usr/local/lib/python3.6/dist-packages (from sympy>=1.0->qiskit) (1.0.0)\n",
            "Collecting requests-ntlm (from IBMQuantumExperience>=1.9.6->qiskit)\n",
            "  Downloading https://files.pythonhosted.org/packages/03/4b/8b9a1afde8072c4d5710d9fa91433d504325821b038e00237dc8d6d833dc/requests_ntlm-1.1.0-py2.py3-none-any.whl\n",
            "Requirement already satisfied: requests in /usr/local/lib/python3.6/dist-packages (from IBMQuantumExperience>=1.9.6->qiskit) (2.18.4)\n",
            "Requirement already satisfied: decorator>=4.1.0 in /usr/local/lib/python3.6/dist-packages (from networkx>=2.0->qiskit) (4.3.0)\n",
            "Requirement already satisfied: pytz in /usr/local/lib/python3.6/dist-packages (from matplotlib>=2.1->qiskit) (2018.5)\n",
            "Requirement already satisfied: python-dateutil>=2.1 in /usr/local/lib/python3.6/dist-packages (from matplotlib>=2.1->qiskit) (2.5.3)\n",
            "Requirement already satisfied: cycler>=0.10 in /usr/local/lib/python3.6/dist-packages (from matplotlib>=2.1->qiskit) (0.10.0)\n",
            "Requirement already satisfied: pyparsing!=2.0.4,!=2.1.2,!=2.1.6,>=2.0.1 in /usr/local/lib/python3.6/dist-packages (from matplotlib>=2.1->qiskit) (2.2.0)\n",
            "Requirement already satisfied: six>=1.10 in /usr/local/lib/python3.6/dist-packages (from matplotlib>=2.1->qiskit) (1.11.0)\n",
            "Collecting ntlm-auth>=1.0.2 (from requests-ntlm->IBMQuantumExperience>=1.9.6->qiskit)\n",
            "  Downloading https://files.pythonhosted.org/packages/8e/5b/4047779fb456b0de503c4acb7b166becf2567efb772abb53998440791d3c/ntlm_auth-1.2.0-py2.py3-none-any.whl\n",
            "Collecting cryptography>=1.3 (from requests-ntlm->IBMQuantumExperience>=1.9.6->qiskit)\n",
            "\u001b[?25l  Downloading https://files.pythonhosted.org/packages/fa/f4/3cde3604972dfa2b0fea85b9711948bb4fb70ab64095322aef35071bd254/cryptography-2.2.2-cp34-abi3-manylinux1_x86_64.whl (2.2MB)\n",
            "\u001b[K    100% |████████████████████████████████| 2.2MB 11.8MB/s \n",
            "\u001b[?25hRequirement already satisfied: urllib3<1.23,>=1.21.1 in /usr/local/lib/python3.6/dist-packages (from requests->IBMQuantumExperience>=1.9.6->qiskit) (1.22)\n",
            "Requirement already satisfied: chardet<3.1.0,>=3.0.2 in /usr/local/lib/python3.6/dist-packages (from requests->IBMQuantumExperience>=1.9.6->qiskit) (3.0.4)\n",
            "Requirement already satisfied: certifi>=2017.4.17 in /usr/local/lib/python3.6/dist-packages (from requests->IBMQuantumExperience>=1.9.6->qiskit) (2018.4.16)\n",
            "Requirement already satisfied: idna<2.7,>=2.5 in /usr/local/lib/python3.6/dist-packages (from requests->IBMQuantumExperience>=1.9.6->qiskit) (2.6)\n",
            "Collecting cffi>=1.7; platform_python_implementation != \"PyPy\" (from cryptography>=1.3->requests-ntlm->IBMQuantumExperience>=1.9.6->qiskit)\n",
            "\u001b[?25l  Downloading https://files.pythonhosted.org/packages/6d/c0/47db8f624f3e4e2f3f27be03a93379d1ba16a1450a7b1aacfa0366e2c0dd/cffi-1.11.5-cp36-cp36m-manylinux1_x86_64.whl (421kB)\n",
            "\u001b[K    100% |████████████████████████████████| 430kB 23.8MB/s \n",
            "\u001b[?25hCollecting asn1crypto>=0.21.0 (from cryptography>=1.3->requests-ntlm->IBMQuantumExperience>=1.9.6->qiskit)\n",
            "\u001b[?25l  Downloading https://files.pythonhosted.org/packages/ea/cd/35485615f45f30a510576f1a56d1e0a7ad7bd8ab5ed7cdc600ef7cd06222/asn1crypto-0.24.0-py2.py3-none-any.whl (101kB)\n",
            "\u001b[K    100% |████████████████████████████████| 102kB 9.7MB/s \n",
            "\u001b[?25hCollecting pycparser (from cffi>=1.7; platform_python_implementation != \"PyPy\"->cryptography>=1.3->requests-ntlm->IBMQuantumExperience>=1.9.6->qiskit)\n",
            "\u001b[?25l  Downloading https://files.pythonhosted.org/packages/8c/2d/aad7f16146f4197a11f8e91fb81df177adcc2073d36a17b1491fd09df6ed/pycparser-2.18.tar.gz (245kB)\n",
            "\u001b[K    100% |████████████████████████████████| 256kB 24.4MB/s \n",
            "\u001b[?25hBuilding wheels for collected packages: pycparser\n",
            "  Running setup.py bdist_wheel for pycparser ... \u001b[?25l-\b \b\\\b \bdone\n",
            "\u001b[?25h  Stored in directory: /content/.cache/pip/wheels/c0/a1/27/5ba234bd77ea5a290cbf6d675259ec52293193467a12ef1f46\n",
            "Successfully built pycparser\n",
            "Installing collected packages: pillow, ply, ntlm-auth, pycparser, cffi, asn1crypto, cryptography, requests-ntlm, IBMQuantumExperience, qiskit\n",
            "  Found existing installation: Pillow 4.0.0\n"
          ],
          "name": "stdout"
        },
        {
          "output_type": "stream",
          "text": [
            "    Uninstalling Pillow-4.0.0:\n",
            "      Successfully uninstalled Pillow-4.0.0\n",
            "Successfully installed IBMQuantumExperience-1.9.8 asn1crypto-0.24.0 cffi-1.11.5 cryptography-2.2.2 ntlm-auth-1.2.0 pillow-5.2.0 ply-3.11 pycparser-2.18 qiskit-0.5.6 requests-ntlm-1.1.0\n"
          ],
          "name": "stdout"
        }
      ]
    },
    {
      "metadata": {
        "id": "FRoE1d_QIxEE",
        "colab_type": "code",
        "colab": {
          "autoexec": {
            "startup": false,
            "wait_interval": 0
          }
        }
      },
      "cell_type": "code",
      "source": [
        "from qiskit import QuantumProgram"
      ],
      "execution_count": 0,
      "outputs": []
    },
    {
      "metadata": {
        "id": "i1SG401OI-96",
        "colab_type": "code",
        "colab": {
          "autoexec": {
            "startup": false,
            "wait_interval": 0
          }
        }
      },
      "cell_type": "code",
      "source": [
        "# Create a QuantumProgram object instance.\n",
        "\n",
        "qp = QuantumProgram()"
      ],
      "execution_count": 0,
      "outputs": []
    },
    {
      "metadata": {
        "id": "7g6aIZ2hJGx7",
        "colab_type": "code",
        "colab": {
          "autoexec": {
            "startup": false,
            "wait_interval": 0
          }
        }
      },
      "cell_type": "code",
      "source": [
        "# Create a Quantum Register called \"qr\" with 2 qubits.\n",
        "qr = qp.create_quantum_register('qr',2)\n",
        "\n",
        "# Create a Classical Register called \"cr\" with 2 bits.\n",
        "cr = qp.create_classical_register('cr',2)"
      ],
      "execution_count": 0,
      "outputs": []
    },
    {
      "metadata": {
        "id": "CYjYTrCCJhom",
        "colab_type": "code",
        "colab": {
          "autoexec": {
            "startup": false,
            "wait_interval": 0
          }
        }
      },
      "cell_type": "code",
      "source": [
        "# Create a Quantum Circuit called \"qc\" involving qr and cr.\n",
        "\n",
        "qc = qp.create_circuit('HelloWorldCircuit', [qr],[cr])"
      ],
      "execution_count": 0,
      "outputs": []
    },
    {
      "metadata": {
        "id": "UcLCGV_mJrUl",
        "colab_type": "code",
        "colab": {
          "autoexec": {
            "startup": false,
            "wait_interval": 0
          },
          "base_uri": "https://localhost:8080/",
          "height": 71
        },
        "outputId": "721e5003-26c5-4efb-be5f-8951d80a6e2e",
        "executionInfo": {
          "status": "ok",
          "timestamp": 1531062985604,
          "user_tz": -330,
          "elapsed": 1606,
          "user": {
            "displayName": "RAHUL KUMAR",
            "photoUrl": "//lh5.googleusercontent.com/-Tsfm_ry7qgQ/AAAAAAAAAAI/AAAAAAAAIZs/NIipKd39rF4/s50-c-k-no/photo.jpg",
            "userId": "113791344848346830729"
          }
        }
      },
      "cell_type": "code",
      "source": [
        "# Setup connection with real Quantum chip\n",
        "\n",
        "backend = 'ibmqx5'\n",
        "\n",
        "#Get you token from https://quantumexperience.ng.bluemix.net/qx/account/advanced\n",
        "\n",
        "token = 'a7dbfb3cfc1252c4a7555020c32808cff17102a467c595801371f7b7f1f7c3a3355d565469aa4a37564df269f3710f33d7d13ba3c900ca947c1513598b64c5e7'\n",
        "\n",
        "qp.set_api(token,url='https://quantumexperience.ng.bluemix.net/api')\n"
      ],
      "execution_count": 0,
      "outputs": [
        {
          "output_type": "stream",
          "text": [
            "/usr/local/lib/python3.6/dist-packages/qiskit/_quantumprogram.py:661: DeprecationWarning: set_api() will be deprecated in upcoming versions (>0.5.0). Using qiskit.register() instead is recommended.\n",
            "  \"Using qiskit.register() instead is recommended.\", DeprecationWarning)\n"
          ],
          "name": "stderr"
        }
      ]
    },
    {
      "metadata": {
        "id": "RA3GOZ4JJ1xJ",
        "colab_type": "code",
        "colab": {
          "autoexec": {
            "startup": false,
            "wait_interval": 0
          },
          "base_uri": "https://localhost:8080/",
          "height": 34
        },
        "outputId": "d6dff0bb-b020-48e2-dba9-05f711058212",
        "executionInfo": {
          "status": "ok",
          "timestamp": 1531063057619,
          "user_tz": -330,
          "elapsed": 71986,
          "user": {
            "displayName": "RAHUL KUMAR",
            "photoUrl": "//lh5.googleusercontent.com/-Tsfm_ry7qgQ/AAAAAAAAAAI/AAAAAAAAIZs/NIipKd39rF4/s50-c-k-no/photo.jpg",
            "userId": "113791344848346830729"
          }
        }
      },
      "cell_type": "code",
      "source": [
        "# Add the H gate in the Qubit 1, putting this qubit in superposition.\n",
        "qc.h(qr[1])\n",
        "\n",
        "# Add the CX gate on control qubit 1 and target qubit 0, putting the qubits in a Bell state i.e entanglement\n",
        "qc.cx(qr[1], qr[0])\n",
        "\n",
        "\n",
        "# Add a Measure gate to see the state.\n",
        "qc.measure(qr[0],cr[0])\n",
        "qc.measure(qr[1],cr[1])\n",
        "\n",
        "# Compile and execute the Quantum Program in the ibmqx5\n",
        "results = qp.execute(['HelloWorldCircuit'] ,backend ,timeout=2400)\n",
        "print(results.get_counts('HelloWorldCircuit'))"
      ],
      "execution_count": 0,
      "outputs": [
        {
          "output_type": "stream",
          "text": [
            "{'00': 488, '01': 90, '10': 58, '11': 388}\n"
          ],
          "name": "stdout"
        }
      ]
    },
    {
      "metadata": {
        "id": "1GK9VZehI0QX",
        "colab_type": "code",
        "colab": {
          "autoexec": {
            "startup": false,
            "wait_interval": 0
          },
          "base_uri": "https://localhost:8080/",
          "height": 338
        },
        "outputId": "f7870e1b-6242-4ac0-cbdb-3d2b4503de21",
        "executionInfo": {
          "status": "ok",
          "timestamp": 1531063452966,
          "user_tz": -330,
          "elapsed": 1468,
          "user": {
            "displayName": "RAHUL KUMAR",
            "photoUrl": "//lh5.googleusercontent.com/-Tsfm_ry7qgQ/AAAAAAAAAAI/AAAAAAAAIZs/NIipKd39rF4/s50-c-k-no/photo.jpg",
            "userId": "113791344848346830729"
          }
        }
      },
      "cell_type": "code",
      "source": [
        "from qiskit.tools.visualization import plot_histogram, circuit_drawer\n",
        "circuit_drawer(qc)"
      ],
      "execution_count": 0,
      "outputs": [
        {
          "output_type": "stream",
          "text": [
            "WARNING: Unable to compile latex. Is `pdflatex` installed? Skipping latex circuit drawing...\n"
          ],
          "name": "stderr"
        },
        {
          "output_type": "display_data",
          "data": {
            "image/png": "[encoded data removed]",
            "text/plain": [
              "<matplotlib.figure.Figure at 0x7fb927f187b8>"
            ]
          },
          "metadata": {
            "tags": []
          }
        }
      ]
    },
    {
      "metadata": {
        "id": "fxJodddsfj8o",
        "colab_type": "code",
        "colab": {
          "autoexec": {
            "startup": false,
            "wait_interval": 0
          },
          "base_uri": "https://localhost:8080/",
          "height": 354
        },
        "outputId": "8e75b2cc-6a1d-41e5-c807-c1c5f6a8360a",
        "executionInfo": {
          "status": "ok",
          "timestamp": 1531069315218,
          "user_tz": -330,
          "elapsed": 1106,
          "user": {
            "displayName": "RAHUL KUMAR",
            "photoUrl": "//lh5.googleusercontent.com/-Tsfm_ry7qgQ/AAAAAAAAAAI/AAAAAAAAIZs/NIipKd39rF4/s50-c-k-no/photo.jpg",
            "userId": "113791344848346830729"
          }
        }
      },
      "cell_type": "code",
      "source": [
        "plot_histogram(results.get_counts('HelloWorldCircuit'))"
      ],
      "execution_count": 0,
      "outputs": [
        {
          "output_type": "display_data",
          "data": {
            "image/png": "[encoded data removed]",
            "text/plain": [
              "<matplotlib.figure.Figure at 0x7fb9254cb6a0>"
            ]
          },
          "metadata": {
            "tags": []
          }
        }
      ]
    },
    {
      "metadata": {
        "id": "rRmmbLy5LRjv",
        "colab_type": "text"
      },
      "cell_type": "markdown",
      "source": [
        "# Upgraded version of the above code"
      ]
    },
    {
      "metadata": {
        "id": "Omj_HHrIGI89",
        "colab_type": "code",
        "colab": {
          "autoexec": {
            "startup": false,
            "wait_interval": 0
          },
          "base_uri": "https://localhost:8080/",
          "height": 122
        },
        "outputId": "a94f07a7-3df6-4afe-8537-7fcac1de5f7c",
        "executionInfo": {
          "status": "ok",
          "timestamp": 1530721866733,
          "user_tz": -330,
          "elapsed": 6145,
          "user": {
            "displayName": "RAHUL KUMAR",
            "photoUrl": "//lh5.googleusercontent.com/-Tsfm_ry7qgQ/AAAAAAAAAAI/AAAAAAAAIZs/NIipKd39rF4/s50-c-k-no/photo.jpg",
            "userId": "113791344848346830729"
          }
        }
      },
      "cell_type": "code",
      "source": [
        "import time\n",
        "from qiskit import ClassicalRegister, QuantumRegister\n",
        "from qiskit import QuantumCircuit,  available_backends, execute, register, get_backend\n",
        "\n",
        "# import basic plot tools\n",
        "from qiskit.tools.visualization import plot_histogram, circuit_drawer\n",
        "\n",
        "APItoken = 'a7dbfb3cfc1252c4a7555020c32808cff17102a467c595801371f7b7f1f7c3a3355d565469aa4a37564df269f3710f33d7d13ba3c900ca947c1513598b64c5e7'\n",
        "\n",
        "qx_config = {\n",
        "    \"APItoken\": APItoken,\n",
        "    \"url\":\"https://quantumexperience.ng.bluemix.net/api\"}\n",
        "\n",
        "try:\n",
        "    register(qx_config['APItoken'], qx_config['url'])\n",
        "\n",
        "    print('\\nYou have access to great power!')\n",
        "    print(available_backends({'local': False, 'simulator': False}))\n",
        "except: \n",
        "    print('Something went wrong.\\nDid you enter a correct token?')"
      ],
      "execution_count": 0,
      "outputs": [
        {
          "output_type": "stream",
          "text": [
            "Please input your token and hit enter: ··········\n"
          ],
          "name": "stdout"
        },
        {
          "output_type": "stream",
          "text": [
            "The backend names \"['ibmqx4', 'ibmq_qasm_simulator', 'ibmqx2', 'ibmqx5']\" of this provider are already in use. Refer to documentation for `available_backends()` and `unregister()`.\n"
          ],
          "name": "stderr"
        },
        {
          "output_type": "stream",
          "text": [
            "\n",
            "You have access to great power!\n",
            "['ibmqx4', 'ibmqx2', 'ibmqx5']\n"
          ],
          "name": "stdout"
        }
      ]
    },
    {
      "metadata": {
        "id": "UUSnpi-CHnKt",
        "colab_type": "code",
        "colab": {
          "autoexec": {
            "startup": false,
            "wait_interval": 0
          },
          "base_uri": "https://localhost:8080/",
          "height": 34
        },
        "outputId": "e33ed21f-78fb-45a7-be9e-ed5c5b8de19b",
        "executionInfo": {
          "status": "ok",
          "timestamp": 1530721918241,
          "user_tz": -330,
          "elapsed": 4723,
          "user": {
            "displayName": "RAHUL KUMAR",
            "photoUrl": "//lh5.googleusercontent.com/-Tsfm_ry7qgQ/AAAAAAAAAAI/AAAAAAAAIZs/NIipKd39rF4/s50-c-k-no/photo.jpg",
            "userId": "113791344848346830729"
          }
        }
      },
      "cell_type": "code",
      "source": [
        "def lowest_pending_jobs():\n",
        "    \"\"\"Returns the backend with lowest pending jobs.\"\"\"\n",
        "    list_of_backends = available_backends(\n",
        "        {'local': False, 'simulator': False})\n",
        "    device_status = [get_backend(backend).status\n",
        "                     for backend in list_of_backends]\n",
        "\n",
        "    best = min([x for x in device_status if x['operational'] is True],\n",
        "               key=lambda x: x['pending_jobs'])\n",
        "    return best['name']\n",
        "\n",
        "backend = lowest_pending_jobs()\n",
        "print(\"The best backend is \" + backend)"
      ],
      "execution_count": 0,
      "outputs": [
        {
          "output_type": "stream",
          "text": [
            "The best backend is ibmqx5\n"
          ],
          "name": "stdout"
        }
      ]
    },
    {
      "metadata": {
        "id": "byGzAbN9H0qt",
        "colab_type": "code",
        "colab": {
          "autoexec": {
            "startup": false,
            "wait_interval": 0
          },
          "base_uri": "https://localhost:8080/",
          "height": 1224
        },
        "outputId": "a05da967-4cd2-4b93-b550-12041f0a75cd",
        "executionInfo": {
          "status": "ok",
          "timestamp": 1530722303058,
          "user_tz": -330,
          "elapsed": 377229,
          "user": {
            "displayName": "RAHUL KUMAR",
            "photoUrl": "//lh5.googleusercontent.com/-Tsfm_ry7qgQ/AAAAAAAAAAI/AAAAAAAAIZs/NIipKd39rF4/s50-c-k-no/photo.jpg",
            "userId": "113791344848346830729"
          }
        }
      },
      "cell_type": "code",
      "source": [
        "q = QuantumRegister(2)\n",
        "c = ClassicalRegister(2)\n",
        "qc = QuantumCircuit(q, c)\n",
        "qc.h(q[0])\n",
        "qc.cx(q[0], q[1])\n",
        "qc.measure(q, c)\n",
        "job_exp = execute(qc, backend=backend, shots=1024, max_credits=3)\n",
        "\n",
        "lapse = 0\n",
        "interval = 10\n",
        "while not job_exp.done:\n",
        "    print('Status @ {} seconds'.format(interval * lapse))\n",
        "    print(job_exp.status)\n",
        "    time.sleep(interval)\n",
        "    lapse += 1\n",
        "print(job_exp.status)"
      ],
      "execution_count": 0,
      "outputs": [
        {
          "output_type": "stream",
          "text": [
            "Status @ 0 seconds\n",
            "{'job_id': None, 'status': <JobStatus.INITIALIZING: 'job is being initialized'>, 'status_msg': 'Job is initializing. Please, wait a moment.'}\n",
            "Status @ 10 seconds\n",
            "{'job_id': '5b3cf6872f41af00391e2468', 'status': <JobStatus.QUEUED: 'job is queued'>, 'status_msg': 'job is queued', 'queue_position': 9}\n",
            "Status @ 20 seconds\n",
            "{'job_id': '5b3cf6872f41af00391e2468', 'status': <JobStatus.QUEUED: 'job is queued'>, 'status_msg': 'job is queued', 'queue_position': 9}\n",
            "Status @ 30 seconds\n",
            "{'job_id': '5b3cf6872f41af00391e2468', 'status': <JobStatus.QUEUED: 'job is queued'>, 'status_msg': 'job is queued', 'queue_position': 9}\n",
            "Status @ 40 seconds\n",
            "{'job_id': '5b3cf6872f41af00391e2468', 'status': <JobStatus.QUEUED: 'job is queued'>, 'status_msg': 'job is queued', 'queue_position': 9}\n",
            "Status @ 50 seconds\n",
            "{'job_id': '5b3cf6872f41af00391e2468', 'status': <JobStatus.QUEUED: 'job is queued'>, 'status_msg': 'job is queued', 'queue_position': 9}\n",
            "Status @ 60 seconds\n",
            "{'job_id': '5b3cf6872f41af00391e2468', 'status': <JobStatus.QUEUED: 'job is queued'>, 'status_msg': 'job is queued', 'queue_position': 9}\n",
            "Status @ 70 seconds\n",
            "{'job_id': '5b3cf6872f41af00391e2468', 'status': <JobStatus.QUEUED: 'job is queued'>, 'status_msg': 'job is queued', 'queue_position': 9}\n",
            "Status @ 80 seconds\n",
            "{'job_id': '5b3cf6872f41af00391e2468', 'status': <JobStatus.QUEUED: 'job is queued'>, 'status_msg': 'job is queued', 'queue_position': 9}\n",
            "Status @ 90 seconds\n",
            "{'job_id': '5b3cf6872f41af00391e2468', 'status': <JobStatus.QUEUED: 'job is queued'>, 'status_msg': 'job is queued', 'queue_position': 9}\n",
            "Status @ 100 seconds\n",
            "{'job_id': '5b3cf6872f41af00391e2468', 'status': <JobStatus.QUEUED: 'job is queued'>, 'status_msg': 'job is queued', 'queue_position': 6}\n",
            "Status @ 110 seconds\n",
            "{'job_id': '5b3cf6872f41af00391e2468', 'status': <JobStatus.QUEUED: 'job is queued'>, 'status_msg': 'job is queued', 'queue_position': 6}\n",
            "Status @ 120 seconds\n",
            "{'job_id': '5b3cf6872f41af00391e2468', 'status': <JobStatus.QUEUED: 'job is queued'>, 'status_msg': 'job is queued', 'queue_position': 6}\n",
            "Status @ 130 seconds\n",
            "{'job_id': '5b3cf6872f41af00391e2468', 'status': <JobStatus.QUEUED: 'job is queued'>, 'status_msg': 'job is queued', 'queue_position': 6}\n",
            "Status @ 140 seconds\n",
            "{'job_id': '5b3cf6872f41af00391e2468', 'status': <JobStatus.QUEUED: 'job is queued'>, 'status_msg': 'job is queued', 'queue_position': 6}\n",
            "Status @ 150 seconds\n",
            "{'job_id': '5b3cf6872f41af00391e2468', 'status': <JobStatus.QUEUED: 'job is queued'>, 'status_msg': 'job is queued', 'queue_position': 6}\n",
            "Status @ 160 seconds\n",
            "{'job_id': '5b3cf6872f41af00391e2468', 'status': <JobStatus.QUEUED: 'job is queued'>, 'status_msg': 'job is queued', 'queue_position': 6}\n",
            "Status @ 170 seconds\n",
            "{'job_id': '5b3cf6872f41af00391e2468', 'status': <JobStatus.QUEUED: 'job is queued'>, 'status_msg': 'job is queued', 'queue_position': 6}\n",
            "Status @ 180 seconds\n",
            "{'job_id': '5b3cf6872f41af00391e2468', 'status': <JobStatus.QUEUED: 'job is queued'>, 'status_msg': 'job is queued', 'queue_position': 6}\n",
            "Status @ 190 seconds\n",
            "{'job_id': '5b3cf6872f41af00391e2468', 'status': <JobStatus.QUEUED: 'job is queued'>, 'status_msg': 'job is queued', 'queue_position': 6}\n",
            "Status @ 200 seconds\n",
            "{'job_id': '5b3cf6872f41af00391e2468', 'status': <JobStatus.QUEUED: 'job is queued'>, 'status_msg': 'job is queued', 'queue_position': 6}\n",
            "Status @ 210 seconds\n",
            "{'job_id': '5b3cf6872f41af00391e2468', 'status': <JobStatus.QUEUED: 'job is queued'>, 'status_msg': 'job is queued', 'queue_position': 6}\n",
            "Status @ 220 seconds\n",
            "{'job_id': '5b3cf6872f41af00391e2468', 'status': <JobStatus.QUEUED: 'job is queued'>, 'status_msg': 'job is queued', 'queue_position': 6}\n",
            "Status @ 230 seconds\n",
            "{'job_id': '5b3cf6872f41af00391e2468', 'status': <JobStatus.QUEUED: 'job is queued'>, 'status_msg': 'job is queued', 'queue_position': 6}\n",
            "Status @ 240 seconds\n",
            "{'job_id': '5b3cf6872f41af00391e2468', 'status': <JobStatus.QUEUED: 'job is queued'>, 'status_msg': 'job is queued', 'queue_position': 6}\n"
          ],
          "name": "stdout"
        },
        {
          "output_type": "stream",
          "text": [
            "Status @ 250 seconds\n",
            "{'job_id': '5b3cf6872f41af00391e2468', 'status': <JobStatus.QUEUED: 'job is queued'>, 'status_msg': 'job is queued', 'queue_position': 6}\n",
            "Status @ 260 seconds\n",
            "{'job_id': '5b3cf6872f41af00391e2468', 'status': <JobStatus.QUEUED: 'job is queued'>, 'status_msg': 'job is queued', 'queue_position': 6}\n",
            "Status @ 270 seconds\n",
            "{'job_id': '5b3cf6872f41af00391e2468', 'status': <JobStatus.QUEUED: 'job is queued'>, 'status_msg': 'job is queued', 'queue_position': 6}\n",
            "Status @ 280 seconds\n",
            "{'job_id': '5b3cf6872f41af00391e2468', 'status': <JobStatus.QUEUED: 'job is queued'>, 'status_msg': 'job is queued', 'queue_position': 6}\n",
            "Status @ 290 seconds\n",
            "{'job_id': '5b3cf6872f41af00391e2468', 'status': <JobStatus.QUEUED: 'job is queued'>, 'status_msg': 'job is queued', 'queue_position': 6}\n",
            "Status @ 300 seconds\n",
            "{'job_id': '5b3cf6872f41af00391e2468', 'status': <JobStatus.QUEUED: 'job is queued'>, 'status_msg': 'job is queued', 'queue_position': 6}\n",
            "Status @ 310 seconds\n",
            "{'job_id': '5b3cf6872f41af00391e2468', 'status': <JobStatus.QUEUED: 'job is queued'>, 'status_msg': 'job is queued', 'queue_position': 6}\n",
            "Status @ 320 seconds\n",
            "{'job_id': '5b3cf6872f41af00391e2468', 'status': <JobStatus.QUEUED: 'job is queued'>, 'status_msg': 'job is queued', 'queue_position': 6}\n",
            "Status @ 330 seconds\n",
            "{'job_id': '5b3cf6872f41af00391e2468', 'status': <JobStatus.RUNNING: 'job is actively running'>, 'status_msg': 'job is actively running'}\n",
            "Status @ 340 seconds\n",
            "{'job_id': '5b3cf6872f41af00391e2468', 'status': <JobStatus.RUNNING: 'job is actively running'>, 'status_msg': 'job is actively running'}\n",
            "{'job_id': '5b3cf6872f41af00391e2468', 'status': <JobStatus.DONE: 'job has successfully run'>, 'status_msg': 'job has successfully run'}\n"
          ],
          "name": "stdout"
        }
      ]
    },
    {
      "metadata": {
        "id": "M9URdGQ7H26r",
        "colab_type": "code",
        "colab": {
          "autoexec": {
            "startup": false,
            "wait_interval": 0
          },
          "base_uri": "https://localhost:8080/",
          "height": 371
        },
        "outputId": "e1d6d69a-0532-47b3-9a1b-aa030bf3329d",
        "executionInfo": {
          "status": "ok",
          "timestamp": 1530722304612,
          "user_tz": -330,
          "elapsed": 1539,
          "user": {
            "displayName": "RAHUL KUMAR",
            "photoUrl": "//lh5.googleusercontent.com/-Tsfm_ry7qgQ/AAAAAAAAAAI/AAAAAAAAIZs/NIipKd39rF4/s50-c-k-no/photo.jpg",
            "userId": "113791344848346830729"
          }
        }
      },
      "cell_type": "code",
      "source": [
        "plot_histogram(job_exp.result().get_counts(qc))\n",
        "\n",
        "print('You have made entanglement!')"
      ],
      "execution_count": 0,
      "outputs": [
        {
          "output_type": "display_data",
          "data": {
            "image/png": "[encoded data removed]",
            "text/plain": [
              "<matplotlib.figure.Figure at 0x7f44a5195cf8>"
            ]
          },
          "metadata": {
            "tags": []
          }
        },
        {
          "output_type": "stream",
          "text": [
            "You have made entanglement!\n"
          ],
          "name": "stdout"
        }
      ]
    },
    {
      "metadata": {
        "id": "m2YMyHSSH5ZI",
        "colab_type": "code",
        "colab": {
          "autoexec": {
            "startup": false,
            "wait_interval": 0
          },
          "base_uri": "https://localhost:8080/",
          "height": 338
        },
        "outputId": "dadebf7e-2ed1-4ffd-eafe-16f3430438ee",
        "executionInfo": {
          "status": "ok",
          "timestamp": 1530722306041,
          "user_tz": -330,
          "elapsed": 1325,
          "user": {
            "displayName": "RAHUL KUMAR",
            "photoUrl": "//lh5.googleusercontent.com/-Tsfm_ry7qgQ/AAAAAAAAAAI/AAAAAAAAIZs/NIipKd39rF4/s50-c-k-no/photo.jpg",
            "userId": "113791344848346830729"
          }
        }
      },
      "cell_type": "code",
      "source": [
        "circuit_drawer(qc)"
      ],
      "execution_count": 0,
      "outputs": [
        {
          "output_type": "stream",
          "text": [
            "WARNING: Unable to compile latex. Is `pdflatex` installed? Skipping latex circuit drawing...\n"
          ],
          "name": "stderr"
        },
        {
          "output_type": "display_data",
          "data": {
            "image/png": "[encoded data removed]",
            "text/plain": [
              "<matplotlib.figure.Figure at 0x7f44a1ff9668>"
            ]
          },
          "metadata": {
            "tags": []
          }
        }
      ]
    },
    {
      "metadata": {
        "id": "idMtx4-w14gn",
        "colab_type": "code",
        "colab": {
          "autoexec": {
            "startup": false,
            "wait_interval": 0
          }
        }
      },
      "cell_type": "code",
      "source": [
        ""
      ],
      "execution_count": 0,
      "outputs": []
    }
  ]
}